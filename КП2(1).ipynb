{
  "nbformat": 4,
  "nbformat_minor": 0,
  "metadata": {
    "colab": {
      "provenance": [],
      "include_colab_link": true
    },
    "kernelspec": {
      "name": "python3",
      "display_name": "Python 3"
    },
    "language_info": {
      "name": "python"
    }
  },
  "cells": [
    {
      "cell_type": "markdown",
      "metadata": {
        "id": "view-in-github",
        "colab_type": "text"
      },
      "source": [
        "<a href=\"https://colab.research.google.com/github/MashaYakus/AI/blob/main/%D0%9A%D0%9F2(1).ipynb\" target=\"_parent\"><img src=\"https://colab.research.google.com/assets/colab-badge.svg\" alt=\"Open In Colab\"/></a>"
      ]
    },
    {
      "cell_type": "code",
      "source": [
        "import time\n",
        "import numpy as np\n",
        "from random import randint\n",
        "import random\n",
        "from scipy.sparse import rand"
      ],
      "metadata": {
        "id": "EWYpFsX6XCEd"
      },
      "execution_count": null,
      "outputs": []
    },
    {
      "cell_type": "markdown",
      "source": [
        "# Решение систем линейных алгебраических уравнений с несимметричными\n",
        "#разреженными матрицами большой размерности. Метод бисопряженных\n",
        "#градиентов."
      ],
      "metadata": {
        "id": "KapDiseRDfZc"
      }
    },
    {
      "cell_type": "markdown",
      "source": [
        "##Типы данных"
      ],
      "metadata": {
        "id": "okm1UAHYatUL"
      }
    },
    {
      "cell_type": "markdown",
      "source": [
        "###Разреженная матрица"
      ],
      "metadata": {
        "id": "Q2aZSFG_W0Uu"
      }
    },
    {
      "cell_type": "code",
      "execution_count": null,
      "metadata": {
        "id": "aFvY61L0TM7S"
      },
      "outputs": [],
      "source": [
        "class SparseMatrix:\n",
        "    def __init__(self,\n",
        "              data_dict: Dict[int, float],\n",
        "              number_rows: int,\n",
        "              number_columns: int):\n",
        "      self.data = data_dict\n",
        "      self.n_rows = number_rows\n",
        "      self.n_columns = number_columns\n",
        "      self.keys = sorted(self.data.keys())\n",
        "\n",
        "    def get(self, i: int, j: int):\n",
        "      if i >= self.n_rows or j >= self.n_columns:\n",
        "        raise ValueError('index out of range')\n",
        "      ind = i * self.n_columns + j\n",
        "      if ind in self.keys:\n",
        "          return self.data[ind]\n",
        "      else:\n",
        "          return 0.0\n",
        "\n",
        "    def set(self, val: float, i: int, j: int):\n",
        "      if i >= self.n_rows or j >= self.n_columns:\n",
        "        raise ValueError('index out of range')\n",
        "      ind = i * self.n_columns + j\n",
        "      if ind in self.keys:\n",
        "        if val != 0.0:\n",
        "          self.data[ind] = val\n",
        "        else:\n",
        "          del self.data[ind]\n",
        "          self.keys = sorted(self.data.keys())\n",
        "      elif val != 0.0:\n",
        "        self.data[ind] = val\n",
        "        self.keys = sorted(self.data.keys())\n",
        "\n",
        "    def __len__(self):\n",
        "      return self.n_columns"
      ]
    },
    {
      "cell_type": "markdown",
      "source": [
        "###Вектор"
      ],
      "metadata": {
        "id": "TQsJWNxTW84N"
      }
    },
    {
      "cell_type": "code",
      "source": [
        "class SparseVector:\n",
        "    def __init__(self,\n",
        "                data_dict: Dict[int, float],\n",
        "                number_elements: int):\n",
        "      self.data = data_dict\n",
        "      self.n_els = number_elements\n",
        "      self.keys = sorted(self.data.keys())\n",
        "\n",
        "    def get(self, i: int) -> float:\n",
        "      if i >= self.n_els:\n",
        "        raise ValueError('index out of range')\n",
        "      if i in self.keys:\n",
        "        return self.data[i]\n",
        "      else:\n",
        "        return 0.0\n",
        "\n",
        "    def set(self, val: float, i: int):\n",
        "      if i >= self.n_els:\n",
        "        raise ValueError('index out of range')\n",
        "      if i in self.keys:\n",
        "        if val != 0.0:\n",
        "          self.data[i] = val\n",
        "        else:\n",
        "          del self.data[i]\n",
        "          self.keys = sorted(self.data.keys())\n",
        "      elif val != 0.0:\n",
        "        self.data[i] = val\n",
        "        self.keys = sorted(self.data.keys())\n",
        "\n",
        "    def __len__(self) -> int:\n",
        "      return self.n_els"
      ],
      "metadata": {
        "id": "vmOx8sRMWzUd"
      },
      "execution_count": null,
      "outputs": []
    },
    {
      "cell_type": "markdown",
      "source": [
        "##Операции"
      ],
      "metadata": {
        "id": "dbEG_l0JZEEM"
      }
    },
    {
      "cell_type": "markdown",
      "source": [
        "###Добавление"
      ],
      "metadata": {
        "id": "LabkvWlabCTT"
      }
    },
    {
      "cell_type": "code",
      "source": [
        "def add(vct1: SparseVector, vct2: SparseVector):\n",
        "  lst1 = list(vct1.keys)\n",
        "  lst2 = list(vct2.keys)\n",
        "  lst1.extend(lst2)\n",
        "  all_non_zero = list(set(lst1))\n",
        "  res_vct = {}\n",
        "  for ind in all_non_zero:\n",
        "    res_vct[ind] = vct1[ind] + vct2[ind]\n",
        "  return SparseVector(res_vct, len(vct1))"
      ],
      "metadata": {
        "id": "As8SLmp5bp-k"
      },
      "execution_count": null,
      "outputs": []
    },
    {
      "cell_type": "markdown",
      "source": [
        "### Умножение"
      ],
      "metadata": {
        "id": "gHTjoaSBbIuT"
      }
    },
    {
      "cell_type": "code",
      "source": [
        "def multi(object1: Union[float, SparseMatrix, SparseVector],\n",
        "  object2: SparseVector,\n",
        "  scalar: bool = False):\n",
        "  inst1 = isinstance(object1, SparseVector)\n",
        "  inst2 = isinstance(object2, SparseVector)\n",
        "  inst3 = isinstance(object1, SparseMatrix)\n",
        "  inst4 = isinstance(object1, float)\n",
        "  if inst1 and inst2:\n",
        "    return _vct_by_vct(object1, object2, scalar)\n",
        "  elif inst3 and inst2:\n",
        "    return _matrix_by_vct(object1, object2)\n",
        "  elif inst4 and inst2:\n",
        "    return _float_by_vct(object1, object2)\n",
        "\n",
        "def _float_by_vct(num: float, vct: SparseVector):\n",
        "  new_vct = {}\n",
        "  if num == 0.0:\n",
        "    return SparseVector({}, len(vct))\n",
        "  else:\n",
        "    for key in vct.keys:\n",
        "      new_vct[key] = num * vct[key]\n",
        "    return SparseVector(new_vct, len(vct))\n",
        "\n",
        "def _vct_by_vct(vct1: SparseVector,\n",
        "                vct2: SparseVector, scalar: bool):\n",
        "  vct1_indices = list(vct1.keys)\n",
        "  vct2_indices = list(vct2.keys)\n",
        "  res_vct = {}\n",
        "  res_val = 0.0\n",
        "  flag = len(vct1_indices) < len(vct2_indices)\n",
        "  iter_lst = vct1_indices if flag else vct2_indices\n",
        "  for ind in iter_lst:\n",
        "    mult = vct1.get(ind) * vct2.get(ind)\n",
        "    if mult != 0.0:\n",
        "      res_vct[ind] = mult\n",
        "      res_val += mult\n",
        "  if not scalar:\n",
        "    return SparseVector(res_vct, len(vct1))\n",
        "  else:\n",
        "    return res_val\n",
        "\n",
        "def _matrix_by_vct(matrix: SparseMatrix, vector: SparseVector):\n",
        "  res_dct = {}\n",
        "  row_ind = 0\n",
        "  start_ind = row_ind * matrix.n_columns\n",
        "  end_ind = (row_ind + 1) * matrix.n_columns - 1\n",
        "  sum = 0.0\n",
        "  count = 0\n",
        "  for ind in matrix.keys:\n",
        "    if ind >= start_ind and ind <= end_ind:\n",
        "      sum += matrix[ind] * vector[ind - row_ind * matrix.n_columns]\n",
        "    else:\n",
        "      if sum != 0.0:\n",
        "        count += 1\n",
        "        res_dct[row_ind] = sum\n",
        "        sum = 0.0\n",
        "      row_ind += 1\n",
        "      start_ind = row_ind * matrix.n_columns\n",
        "      end_ind = (row_ind + 1) * matrix.n_columns - 1\n",
        "      sum += matrix[ind] * vector[ind - row_ind * matrix.n_columns]\n",
        "  if sum != 0.0:\n",
        "    count += 1\n",
        "    res_dct[row_ind] = sum\n",
        "    sum = 0.0\n",
        "  return SparseVector(res_dct, matrix.n_rows)\n"
      ],
      "metadata": {
        "id": "eLwaSGmocvak"
      },
      "execution_count": null,
      "outputs": []
    },
    {
      "cell_type": "markdown",
      "source": [
        "### Вычитание"
      ],
      "metadata": {
        "id": "rScBbrDubcGT"
      }
    },
    {
      "cell_type": "code",
      "source": [
        "def sub(vct1: SparseVector, vct2: SparseVector):\n",
        "  lst1 = list(vct1.keys)\n",
        "  lst2 = list(vct2.keys)\n",
        "  lst1.extend(lst2)\n",
        "  all_non_zero = list(set(lst1))\n",
        "  res_vct = {}\n",
        "  for ind in all_non_zero:\n",
        "    res_vct[ind] = vct1[ind] - vct2[ind]\n",
        "  return SparseVector(res_vct, len(vct1))"
      ],
      "metadata": {
        "id": "LvWvPioNehNd"
      },
      "execution_count": null,
      "outputs": []
    },
    {
      "cell_type": "markdown",
      "source": [
        "### Нормировка"
      ],
      "metadata": {
        "id": "VbLoyKg8bMuk"
      }
    },
    {
      "cell_type": "code",
      "source": [
        "def max_norm_matrix(matrix: SparseMatrix):\n",
        "  row_ind = 0\n",
        "  start_ind = row_ind * matrix.n_columns\n",
        "  end_ind = (row_ind + 1) * matrix.n_columns - 1\n",
        "  sum = 0.0\n",
        "  max_val = -1.0\n",
        "  for ind in matrix.keys:\n",
        "    if ind >= start_ind and ind <= end_ind:\n",
        "      sum += abs(matrix[ind])\n",
        "    else:\n",
        "      if sum != 0.0:\n",
        "        if sum > max_val:\n",
        "          max_val = sum\n",
        "        sum = 0.0\n",
        "      row_ind += 1\n",
        "      start_ind = row_ind * matrix.n_columns\n",
        "      end_ind = (row_ind + 1) * matrix.n_columns - 1\n",
        "      sum += abs(matrix[ind])\n",
        "  if sum != 0.0:\n",
        "    if sum > max_val:\n",
        "      max_val = sum\n",
        "    sum = 0.0\n",
        "  return max_val\n",
        "\n",
        "def max_norm_vct(vector: SparseVector):\n",
        "  maxv = -1.0\n",
        "  for key in vector.keys:\n",
        "    if abs(vector[key]) > maxv:\n",
        "      maxv = abs(vector[key])\n",
        "  return maxv\n",
        "\n",
        "def norm_vct_2(vector: SparseVector):\n",
        "  sum = 0.0\n",
        "  #print(type(vector))\n",
        "  #print(vector.keys)\n",
        "  for key in vector.keys:\n",
        "    sum += vector.get(key) ** 2\n",
        "  return sum ** 0.5"
      ],
      "metadata": {
        "id": "yYbl5a4pelAi"
      },
      "execution_count": null,
      "outputs": []
    },
    {
      "cell_type": "markdown",
      "source": [
        "### Транспонирование"
      ],
      "metadata": {
        "id": "msa5GNCublw7"
      }
    },
    {
      "cell_type": "code",
      "source": [
        "def transpose(matrix: SparseMatrix):\n",
        "  new_dct = {}\n",
        "  for key in matrix.keys:\n",
        "    row_num, col_num = key // matrix.n_columns, key % matrix.n_columns\n",
        "    new_dct[col_num * matrix.n_rows + row_num] = matrix.data[key]\n",
        "  return SparseMatrix(new_dct, matrix.n_columns, matrix.n_rows)\n"
      ],
      "metadata": {
        "id": "ANmMPnApfdAU"
      },
      "execution_count": null,
      "outputs": []
    },
    {
      "cell_type": "markdown",
      "source": [
        "## Алгоритм"
      ],
      "metadata": {
        "id": "kDfvVJRkbpJs"
      }
    },
    {
      "cell_type": "code",
      "source": [
        "class BICG:\n",
        "  def __init__(self, matrix: SparseMatrix,\n",
        "              bias: SparseVector,\n",
        "              iters: int,\n",
        "              eps: float):\n",
        "    self.matrix = matrix\n",
        "    self.bias = bias\n",
        "    self.iters = iters\n",
        "    self.eps = eps\n",
        "    self.x = SparseVector({}, len(matrix))\n",
        "    self.prev_x = SparseVector({}, len(matrix))\n",
        "    self.r = bias\n",
        "    self.prev_r = bias\n",
        "    self.p = bias\n",
        "    self.prev_p = bias\n",
        "    self.z = bias\n",
        "    self.prev_z = bias\n",
        "    self.s = bias\n",
        "    self.prev_s = bias\n",
        "\n",
        "  def bicg_iter(self) -> None:\n",
        "    alpha1 = multi(self.prev_p, self.prev_r, scalar=True)\n",
        "    alpha2 = multi(self.matrix, self.prev_z)\n",
        "    alpha3 = multi(self.prev_s, alpha2, scalar=True)\n",
        "    self.alpha = alpha1 / alpha3\n",
        "\n",
        "    x1 = multi(self.alpha, self.prev_z)\n",
        "    self.x = add(self.prev_x, x1)\n",
        "\n",
        "    r1 = multi(self.matrix, self.prev_z)\n",
        "    r2 = multi(self.alpha, r1)\n",
        "    self.r = sub(self.prev_r, r2)\n",
        "\n",
        "    p1 = multi(transpose(self.matrix), self.prev_s)\n",
        "    p2 = multi(self.alpha, p1)\n",
        "    self.p = sub(self.prev_p, p2)\n",
        "\n",
        "    beta1 = multi(self.p, self.r, scalar=True)\n",
        "    beta2 = multi(self.prev_p, self.prev_r, scalar=True)\n",
        "    self.beta = beta1 / beta2\n",
        "\n",
        "    z1 = multi(self.beta, self.prev_z)\n",
        "    self.z = add(self.r, z1)\n",
        "\n",
        "    s1 = multi(self.beta, self.prev_s)\n",
        "    self.s = add(self.p, s1)\n",
        "\n",
        "    self.prev_x = self.x\n",
        "    self.prev_r = self.r\n",
        "    self.prev_p = self.p\n",
        "    self.prev_z = self.z\n",
        "    self.prev_s = self.s\n",
        "\n",
        "  def solve(self):\n",
        "    start = time.time() * 1000000\n",
        "    for _ in range(1, self.iters + 1):\n",
        "      if norm_vct_2(self.r) < self.eps:\n",
        "        break\n",
        "      self.bicg_iter()\n",
        "    end = time.time() * 1000000\n",
        "    self.time = end - start\n",
        "\n",
        "  def print_result(self):\n",
        "    res_x = []\n",
        "    res_mult = []\n",
        "    res_bias = []\n",
        "    for key in self.x.keys:\n",
        "      res_x.append(self.x.data[key])\n",
        "    for key in self.bias.keys:\n",
        "      res_bias.append(self.bias.data[key])\n",
        "\n",
        "    mult = multi(self.matrix, self.x)\n",
        "    for key in mult.keys:\n",
        "      res_mult.append(mult.data[key])\n",
        "    print('bicg')\n",
        "    print(f'result x vector: {[\"{:.3f}\".format(i) for i in res_x]}')\n",
        "    approx_vct = [\"{:.3f}\".format(i) for i in res_mult]\n",
        "    print(f'approximated bias vector {approx_vct}')\n",
        "    print(f'real bias vector {[\"{:.3f}\".format(i) for i in res_bias]}')\n",
        "    print(f'time {self.time} microseconds')\n",
        "    res_vct = [\"{:.3f}\".format(i) for i in res_x]\n",
        "    self.result_str = f'result x vector: {res_vct}\\n'\n",
        "    approx_bias = [\"{:.3f}\".format(i) for i in res_mult]\n",
        "    self.result_str += f'approximated bias vector {approx_bias}\\n'\n",
        "    real_bias = [\"{:.3f}\".format(i) for i in res_bias]\n",
        "    self.result_str += f'real bias vector {real_bias}\\n'\n",
        "    self.result_str += f'{self.time} microseconds'\n"
      ],
      "metadata": {
        "id": "6WOlyULmfzJK"
      },
      "execution_count": null,
      "outputs": []
    },
    {
      "cell_type": "markdown",
      "source": [
        "# Примеры\n"
      ],
      "metadata": {
        "id": "agE9G2nAbVJ0"
      }
    },
    {
      "cell_type": "markdown",
      "source": [
        "## Матрица 20x20"
      ],
      "metadata": {
        "id": "eKKqkSdNDvZD"
      }
    },
    {
      "cell_type": "code",
      "source": [
        "shape = 20\n",
        "matrix_dict = {}\n",
        "density = 0.1\n",
        "for i in range(shape):\n",
        "  for j in range(shape):\n",
        "    if random.random() < density:\n",
        "      matrix_dict.update({i*shape + j: randint(1,100)})\n",
        "vector_b = {}\n",
        "density = 0.1\n",
        "for i in range(shape):\n",
        "    vector_b.update({i: randint(1,100)})"
      ],
      "metadata": {
        "id": "kR8DAPNF_9yb"
      },
      "execution_count": null,
      "outputs": []
    },
    {
      "cell_type": "code",
      "source": [
        "matrix = SparseMatrix(matrix_dict, shape, shape)\n",
        "bias = SparseVector(vector_b, shape)\n",
        "bicg = BICG(matrix, bias, 100, 1)\n",
        "bicg.solve()\n",
        "bicg.print_result()"
      ],
      "metadata": {
        "id": "LXKWIIIlAZ6w",
        "colab": {
          "base_uri": "https://localhost:8080/",
          "height": 366
        },
        "outputId": "0dca5b9b-c3bf-4304-82ca-ea4e8b68c1be"
      },
      "execution_count": null,
      "outputs": [
        {
          "output_type": "error",
          "ename": "TypeError",
          "evalue": "ignored",
          "traceback": [
            "\u001b[0;31m---------------------------------------------------------------------------\u001b[0m",
            "\u001b[0;31mTypeError\u001b[0m                                 Traceback (most recent call last)",
            "\u001b[0;32m<ipython-input-37-dd9aa0234936>\u001b[0m in \u001b[0;36m<module>\u001b[0;34m\u001b[0m\n\u001b[1;32m      2\u001b[0m \u001b[0mbias\u001b[0m \u001b[0;34m=\u001b[0m \u001b[0mSparseVector\u001b[0m\u001b[0;34m(\u001b[0m\u001b[0mvector_b\u001b[0m\u001b[0;34m,\u001b[0m \u001b[0mshape\u001b[0m\u001b[0;34m)\u001b[0m\u001b[0;34m\u001b[0m\u001b[0;34m\u001b[0m\u001b[0m\n\u001b[1;32m      3\u001b[0m \u001b[0mbicg\u001b[0m \u001b[0;34m=\u001b[0m \u001b[0mBICG\u001b[0m\u001b[0;34m(\u001b[0m\u001b[0mmatrix\u001b[0m\u001b[0;34m,\u001b[0m \u001b[0mbias\u001b[0m\u001b[0;34m,\u001b[0m \u001b[0;36m100\u001b[0m\u001b[0;34m,\u001b[0m \u001b[0;36m1\u001b[0m\u001b[0;34m)\u001b[0m\u001b[0;34m\u001b[0m\u001b[0;34m\u001b[0m\u001b[0m\n\u001b[0;32m----> 4\u001b[0;31m \u001b[0mbicg\u001b[0m\u001b[0;34m.\u001b[0m\u001b[0msolve\u001b[0m\u001b[0;34m(\u001b[0m\u001b[0;34m)\u001b[0m\u001b[0;34m\u001b[0m\u001b[0;34m\u001b[0m\u001b[0m\n\u001b[0m\u001b[1;32m      5\u001b[0m \u001b[0mbicg\u001b[0m\u001b[0;34m.\u001b[0m\u001b[0mprint_result\u001b[0m\u001b[0;34m(\u001b[0m\u001b[0;34m)\u001b[0m\u001b[0;34m\u001b[0m\u001b[0;34m\u001b[0m\u001b[0m\n",
            "\u001b[0;32m<ipython-input-35-90faa2943b84>\u001b[0m in \u001b[0;36msolve\u001b[0;34m(self)\u001b[0m\n\u001b[1;32m     57\u001b[0m       \u001b[0;32mif\u001b[0m \u001b[0mnorm_vct_2\u001b[0m\u001b[0;34m(\u001b[0m\u001b[0mself\u001b[0m\u001b[0;34m.\u001b[0m\u001b[0mr\u001b[0m\u001b[0;34m)\u001b[0m \u001b[0;34m<\u001b[0m \u001b[0mself\u001b[0m\u001b[0;34m.\u001b[0m\u001b[0meps\u001b[0m\u001b[0;34m:\u001b[0m\u001b[0;34m\u001b[0m\u001b[0;34m\u001b[0m\u001b[0m\n\u001b[1;32m     58\u001b[0m         \u001b[0;32mbreak\u001b[0m\u001b[0;34m\u001b[0m\u001b[0;34m\u001b[0m\u001b[0m\n\u001b[0;32m---> 59\u001b[0;31m       \u001b[0mself\u001b[0m\u001b[0;34m.\u001b[0m\u001b[0mbicg_iter\u001b[0m\u001b[0;34m(\u001b[0m\u001b[0;34m)\u001b[0m\u001b[0;34m\u001b[0m\u001b[0;34m\u001b[0m\u001b[0m\n\u001b[0m\u001b[1;32m     60\u001b[0m     \u001b[0mend\u001b[0m \u001b[0;34m=\u001b[0m \u001b[0mtime\u001b[0m\u001b[0;34m.\u001b[0m\u001b[0mtime\u001b[0m\u001b[0;34m(\u001b[0m\u001b[0;34m)\u001b[0m \u001b[0;34m*\u001b[0m \u001b[0;36m1000000\u001b[0m\u001b[0;34m\u001b[0m\u001b[0;34m\u001b[0m\u001b[0m\n\u001b[1;32m     61\u001b[0m     \u001b[0mself\u001b[0m\u001b[0;34m.\u001b[0m\u001b[0mtime\u001b[0m \u001b[0;34m=\u001b[0m \u001b[0mend\u001b[0m \u001b[0;34m-\u001b[0m \u001b[0mstart\u001b[0m\u001b[0;34m\u001b[0m\u001b[0;34m\u001b[0m\u001b[0m\n",
            "\u001b[0;32m<ipython-input-35-90faa2943b84>\u001b[0m in \u001b[0;36mbicg_iter\u001b[0;34m(self)\u001b[0m\n\u001b[1;32m     21\u001b[0m   \u001b[0;32mdef\u001b[0m \u001b[0mbicg_iter\u001b[0m\u001b[0;34m(\u001b[0m\u001b[0mself\u001b[0m\u001b[0;34m)\u001b[0m \u001b[0;34m->\u001b[0m \u001b[0;32mNone\u001b[0m\u001b[0;34m:\u001b[0m\u001b[0;34m\u001b[0m\u001b[0;34m\u001b[0m\u001b[0m\n\u001b[1;32m     22\u001b[0m     \u001b[0malpha1\u001b[0m \u001b[0;34m=\u001b[0m \u001b[0mmulti\u001b[0m\u001b[0;34m(\u001b[0m\u001b[0mself\u001b[0m\u001b[0;34m.\u001b[0m\u001b[0mprev_p\u001b[0m\u001b[0;34m,\u001b[0m \u001b[0mself\u001b[0m\u001b[0;34m.\u001b[0m\u001b[0mprev_r\u001b[0m\u001b[0;34m,\u001b[0m \u001b[0mscalar\u001b[0m\u001b[0;34m=\u001b[0m\u001b[0;32mTrue\u001b[0m\u001b[0;34m)\u001b[0m\u001b[0;34m\u001b[0m\u001b[0;34m\u001b[0m\u001b[0m\n\u001b[0;32m---> 23\u001b[0;31m     \u001b[0malpha2\u001b[0m \u001b[0;34m=\u001b[0m \u001b[0mmulti\u001b[0m\u001b[0;34m(\u001b[0m\u001b[0mself\u001b[0m\u001b[0;34m.\u001b[0m\u001b[0mmatrix\u001b[0m\u001b[0;34m,\u001b[0m \u001b[0mself\u001b[0m\u001b[0;34m.\u001b[0m\u001b[0mprev_z\u001b[0m\u001b[0;34m)\u001b[0m\u001b[0;34m\u001b[0m\u001b[0;34m\u001b[0m\u001b[0m\n\u001b[0m\u001b[1;32m     24\u001b[0m     \u001b[0malpha3\u001b[0m \u001b[0;34m=\u001b[0m \u001b[0mmulti\u001b[0m\u001b[0;34m(\u001b[0m\u001b[0mself\u001b[0m\u001b[0;34m.\u001b[0m\u001b[0mprev_s\u001b[0m\u001b[0;34m,\u001b[0m \u001b[0malpha2\u001b[0m\u001b[0;34m,\u001b[0m \u001b[0mscalar\u001b[0m\u001b[0;34m=\u001b[0m\u001b[0;32mTrue\u001b[0m\u001b[0;34m)\u001b[0m\u001b[0;34m\u001b[0m\u001b[0;34m\u001b[0m\u001b[0m\n\u001b[1;32m     25\u001b[0m     \u001b[0mself\u001b[0m\u001b[0;34m.\u001b[0m\u001b[0malpha\u001b[0m \u001b[0;34m=\u001b[0m \u001b[0malpha1\u001b[0m \u001b[0;34m/\u001b[0m \u001b[0malpha3\u001b[0m\u001b[0;34m\u001b[0m\u001b[0;34m\u001b[0m\u001b[0m\n",
            "\u001b[0;32m<ipython-input-31-55eaa67bea3c>\u001b[0m in \u001b[0;36mmulti\u001b[0;34m(object1, object2, scalar)\u001b[0m\n\u001b[1;32m      9\u001b[0m     \u001b[0;32mreturn\u001b[0m \u001b[0m_vct_by_vct\u001b[0m\u001b[0;34m(\u001b[0m\u001b[0mobject1\u001b[0m\u001b[0;34m,\u001b[0m \u001b[0mobject2\u001b[0m\u001b[0;34m,\u001b[0m \u001b[0mscalar\u001b[0m\u001b[0;34m)\u001b[0m\u001b[0;34m\u001b[0m\u001b[0;34m\u001b[0m\u001b[0m\n\u001b[1;32m     10\u001b[0m   \u001b[0;32melif\u001b[0m \u001b[0minst3\u001b[0m \u001b[0;32mand\u001b[0m \u001b[0minst2\u001b[0m\u001b[0;34m:\u001b[0m\u001b[0;34m\u001b[0m\u001b[0;34m\u001b[0m\u001b[0m\n\u001b[0;32m---> 11\u001b[0;31m     \u001b[0;32mreturn\u001b[0m \u001b[0m_matrix_by_vct\u001b[0m\u001b[0;34m(\u001b[0m\u001b[0mobject1\u001b[0m\u001b[0;34m,\u001b[0m \u001b[0mobject2\u001b[0m\u001b[0;34m)\u001b[0m\u001b[0;34m\u001b[0m\u001b[0;34m\u001b[0m\u001b[0m\n\u001b[0m\u001b[1;32m     12\u001b[0m   \u001b[0;32melif\u001b[0m \u001b[0minst4\u001b[0m \u001b[0;32mand\u001b[0m \u001b[0minst2\u001b[0m\u001b[0;34m:\u001b[0m\u001b[0;34m\u001b[0m\u001b[0;34m\u001b[0m\u001b[0m\n\u001b[1;32m     13\u001b[0m     \u001b[0;32mreturn\u001b[0m \u001b[0m_float_by_vct\u001b[0m\u001b[0;34m(\u001b[0m\u001b[0mobject1\u001b[0m\u001b[0;34m,\u001b[0m \u001b[0mobject2\u001b[0m\u001b[0;34m)\u001b[0m\u001b[0;34m\u001b[0m\u001b[0;34m\u001b[0m\u001b[0m\n",
            "\u001b[0;32m<ipython-input-31-55eaa67bea3c>\u001b[0m in \u001b[0;36m_matrix_by_vct\u001b[0;34m(matrix, vector)\u001b[0m\n\u001b[1;32m     58\u001b[0m       \u001b[0mstart_ind\u001b[0m \u001b[0;34m=\u001b[0m \u001b[0mrow_ind\u001b[0m \u001b[0;34m*\u001b[0m \u001b[0mmatrix\u001b[0m\u001b[0;34m.\u001b[0m\u001b[0mn_columns\u001b[0m\u001b[0;34m\u001b[0m\u001b[0;34m\u001b[0m\u001b[0m\n\u001b[1;32m     59\u001b[0m       \u001b[0mend_ind\u001b[0m \u001b[0;34m=\u001b[0m \u001b[0;34m(\u001b[0m\u001b[0mrow_ind\u001b[0m \u001b[0;34m+\u001b[0m \u001b[0;36m1\u001b[0m\u001b[0;34m)\u001b[0m \u001b[0;34m*\u001b[0m \u001b[0mmatrix\u001b[0m\u001b[0;34m.\u001b[0m\u001b[0mn_columns\u001b[0m \u001b[0;34m-\u001b[0m \u001b[0;36m1\u001b[0m\u001b[0;34m\u001b[0m\u001b[0;34m\u001b[0m\u001b[0m\n\u001b[0;32m---> 60\u001b[0;31m       \u001b[0msum\u001b[0m \u001b[0;34m+=\u001b[0m \u001b[0mmatrix\u001b[0m\u001b[0;34m[\u001b[0m\u001b[0mind\u001b[0m\u001b[0;34m]\u001b[0m \u001b[0;34m*\u001b[0m \u001b[0mvector\u001b[0m\u001b[0;34m[\u001b[0m\u001b[0mind\u001b[0m \u001b[0;34m-\u001b[0m \u001b[0mrow_ind\u001b[0m \u001b[0;34m*\u001b[0m \u001b[0mmatrix\u001b[0m\u001b[0;34m.\u001b[0m\u001b[0mn_columns\u001b[0m\u001b[0;34m]\u001b[0m\u001b[0;34m\u001b[0m\u001b[0;34m\u001b[0m\u001b[0m\n\u001b[0m\u001b[1;32m     61\u001b[0m   \u001b[0;32mif\u001b[0m \u001b[0msum\u001b[0m \u001b[0;34m!=\u001b[0m \u001b[0;36m0.0\u001b[0m\u001b[0;34m:\u001b[0m\u001b[0;34m\u001b[0m\u001b[0;34m\u001b[0m\u001b[0m\n\u001b[1;32m     62\u001b[0m     \u001b[0mcount\u001b[0m \u001b[0;34m+=\u001b[0m \u001b[0;36m1\u001b[0m\u001b[0;34m\u001b[0m\u001b[0;34m\u001b[0m\u001b[0m\n",
            "\u001b[0;31mTypeError\u001b[0m: 'SparseMatrix' object is not subscriptable"
          ]
        }
      ]
    },
    {
      "cell_type": "code",
      "source": [],
      "metadata": {
        "id": "NofoP1MkNDdQ"
      },
      "execution_count": null,
      "outputs": []
    }
  ]
}